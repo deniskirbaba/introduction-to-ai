{
 "cells": [
  {
   "cell_type": "markdown",
   "metadata": {},
   "source": [
    "Кирбаба Денис Дмитриевич, факультет СУиР, группа R3238\n",
    "# Распознавание активности человека на основе данных с мобильных сенсоров"
   ]
  },
  {
   "cell_type": "markdown",
   "metadata": {},
   "source": [
    "## Импорт библиотек\n",
    "Первым делом импортируем необходимые библиотеки для работы с данными:"
   ]
  },
  {
   "cell_type": "code",
   "execution_count": 124,
   "metadata": {},
   "outputs": [],
   "source": [
    "# import the necessary packages\n",
    "import os\n",
    "import numpy as np\n",
    "import pandas as pd\n",
    "import argparse\n",
    "from sklearn.neighbors import KNeighborsClassifier\n",
    "from sklearn.svm import SVC\n",
    "from sklearn.metrics import classification_report\n",
    "from matplotlib import pyplot as plt"
   ]
  },
  {
   "cell_type": "markdown",
   "metadata": {},
   "source": [
    "## Функции считывания  данных и загрузки и сохранения данных в переменные\n",
    "Переменные, в которые сохраняются данные:\n",
    "* `train_X`: признаки, используемые для обучения модели\n",
    "* `train_y`: метки, используемые для обучения модели\n",
    "* `test_X`: признаки, используемые для проверки модели\n",
    "* `test_y`: метки, используемые для проверки модели"
   ]
  },
  {
   "cell_type": "code",
   "execution_count": 125,
   "metadata": {},
   "outputs": [],
   "source": [
    "def read_data(path, filename):\n",
    "    # reading a set of preprocessed data\n",
    "    return pd.read_csv(os.path.join(path, filename))\n",
    "\n",
    "def load_dataset(label_dict, path, train_filename, test_filename):\n",
    "    # load and save dataset\n",
    "    train_X = read_data(path, train_filename).values[:, :-2]\n",
    "    train_y = read_data(path, train_filename)['Activity']\n",
    "    # substituting each value in a Series (train_y) with another value, derived from dict (label_dict)\n",
    "    train_y = train_y.map(label_dict).values\n",
    "    test_X = read_data(path, test_filename).values[:, :-2]\n",
    "    test_y = read_data(path, test_filename)\n",
    "    test_y = test_y['Activity'].map(label_dict).values\n",
    "    return train_X, test_X, train_y, test_y"
   ]
  },
  {
   "cell_type": "markdown",
   "metadata": {},
   "source": [
    "## Ввод аргументов\n",
    "\n",
    "Парсер был удобен мне при вводе аргументов в виде командной строки для построения и тестирования моделей при различных входных параметрах. Однако далее будет удобнее вводить аргументы другим образом."
   ]
  },
  {
   "cell_type": "code",
   "execution_count": 126,
   "metadata": {},
   "outputs": [],
   "source": [
    "# entering arguments using command line arguments\n",
    "\n",
    "'''\n",
    "# construct the argument parse and parse the arguments\n",
    "\n",
    "ap = argparse.ArgumentParser()\n",
    "ap.add_argument(\"-p\", \"--path\", required=True, help=\"path to input dataset\")\n",
    "ap.add_argument(\"-k\", \"--neighbors\", type=int, default=1, help=\"# of nearest neighbors for classification, \"\n",
    "                                                               \"needed in case of using k-NN algorithm\")\n",
    "ap.add_argument(\"-j\", \"--jobs\", type=int, default=-1, help=\"# of jobs for K-NN distance \"\n",
    "                                                           \"(-1 uses all available cores),\"\n",
    "                                                           \"needed in case of using k-NN algorithm\")\n",
    "ap.add_argument(\"-c\", \"--regularization_param\", type=int, default=1, help=\"The strength of the regularization \"\n",
    "                                                                          \"is inversely proportional to C. \"\n",
    "                                                                          \"Must be strictly positive,\"\n",
    "                                                                          \"needed in case of using SVC algorithm\")\n",
    "ap.add_argument(\"-ker\", \"--kernel_type\", type=str, default=\"rbf\", help=\"Specifies the kernel type to be used in \"\n",
    "                                                                       \"the algorithm. It must be one of ‘linear’,\"\n",
    "                                                                       \"‘poly’, ‘rbf’, ‘sigmoid’, ‘precomputed’.\"\n",
    "                                                                       \"needed in case of using SVC algorithm \")\n",
    "ap.add_argument(\"-g\", \"--gamma\", type=str, default=\"scale\", help=\"Kernel coefficient for ‘rbf’, ‘poly’ and ‘sigmoid’.\"\n",
    "                                                                 \"It must be one of ‘scale’, ‘auto’\"\n",
    "                                                                 \"needed in case of using SVC algorithm \")\n",
    "args = vars(ap.parse_args())\n",
    "'''\n",
    "\n",
    "# another way of entering arguments\n",
    "\n",
    "# files destinations\n",
    "path = \"C:\\denFiles\\git\\introduction-to-ai\\human activity recognition\"\n",
    "trainFilename = \"train.csv\"\n",
    "testFilename = \"test.csv\"\n",
    "\n",
    "# arrays of argument values\n",
    "k_neighbors = [1, 2, 3, 4, 5, 6, 7, 8, 9, 10, 11, 12 ,13 ,14 ,15]\n",
    "c_param = [0.5, 1, 1.5, 2, 2.5]\n",
    "kernel_type = ['poly', 'rbf', 'sigmoid']\n",
    "gamma = ['scale', 'auto']"
   ]
  },
  {
   "cell_type": "markdown",
   "metadata": {},
   "source": [
    "## Загружаем данные"
   ]
  },
  {
   "cell_type": "code",
   "execution_count": 127,
   "metadata": {},
   "outputs": [],
   "source": [
    "# grab the dataset\n",
    "label_dict = {'WALKING': 0, 'WALKING_UPSTAIRS': 1, 'WALKING_DOWNSTAIRS': 2, 'SITTING': 3, 'STANDING': 4, 'LAYING': 5}\n",
    "train_X, test_X, train_y, test_y = load_dataset(label_dict, path, trainFilename, testFilename)"
   ]
  },
  {
   "cell_type": "markdown",
   "metadata": {},
   "source": [
    "## Выбор моделей\n",
    "\n",
    "Я использовал метод опорных векторов и метод k-ближайших соседей. Так как оба алгоритма используются для классификации объектов.\n",
    "\n",
    "Основная идея метода опорных векторов — перевод исходных векторов в пространство более высокой размерности и поиск разделяющей гиперплоскости с наибольшим зазором в этом пространстве. Две параллельных гиперплоскости строятся по обеим сторонам гиперплоскости, разделяющей классы. Разделяющей гиперплоскостью будет гиперплоскость, создающая наибольшее расстояние до двух параллельных гиперплоскостей. Алгоритм основан на допущении, что чем больше разница или расстояние между этими параллельными гиперплоскостями, тем меньше будет средняя ошибка классификатора.\n",
    "\n",
    "Основная идея метода k-ближайших соседей — объект присваивается тому классу, который является наиболее распространённым среди k соседей данного элемента, классы которых уже известны."
   ]
  },
  {
   "cell_type": "markdown",
   "metadata": {},
   "source": [
    "## Обучение и оценка модели k-NN\n",
    "\n",
    "Рассмотрим результаты классификации при различных значениях параметра k (значения из массива k_neighbors)\n",
    "\n",
    "Для оценки работы алгоритма будем использовать метод score, который возвращает среднюю точность по представленным тестовым данным и меткам"
   ]
  },
  {
   "cell_type": "code",
   "execution_count": 128,
   "metadata": {},
   "outputs": [
    {
     "data": {
      "text/plain": [
       "Text(0, 0.5, 'score')"
      ]
     },
     "execution_count": 128,
     "metadata": {},
     "output_type": "execute_result"
    },
    {
     "data": {
      "image/png": "[encoded data removed]",
      "text/plain": [
       "<Figure size 432x288 with 1 Axes>"
      ]
     },
     "metadata": {
      "needs_background": "light"
     },
     "output_type": "display_data"
    }
   ],
   "source": [
    "# array for storing the results of method score\n",
    "kNN_score = []\n",
    "# array for storing result of method predict from model with coefficient at which the highest efficiency was observed\n",
    "kNN_yhat = []\n",
    "\n",
    "best_score = -1\n",
    "# pass through all k coefficients\n",
    "for i in k_neighbors:\n",
    "    model = KNeighborsClassifier(i)\n",
    "    model.fit(train_X, train_y)\n",
    "    cur_score = model.score(test_X, test_y)\n",
    "    kNN_score.append(cur_score)\n",
    "\n",
    "    # finding kNN_yhat\n",
    "    if cur_score > best_score:\n",
    "        kNN_yhat = model.predict(test_X)\n",
    "        best_score = cur_score\n",
    "\n",
    "# build a graph of the dependence of the score value on k value\n",
    "%matplotlib inline\n",
    "fig = plt.figure()\n",
    "ax = fig.add_axes([0,0,1,1])\n",
    "ax.plot(k_neighbors, kNN_score)\n",
    "ax.set_title(\"kNN\")\n",
    "ax.set_xlabel(\"k\")\n",
    "ax.set_ylabel(\"score\")"
   ]
  },
  {
   "cell_type": "markdown",
   "metadata": {},
   "source": [
    "Как мы видим наиболее эффективная классификация происходит при значении k = 8.\n",
    "Полученное значение является средним в рассматриваемом нами диапазоне [1, 15].\n",
    "\n",
    "Это вполне ожидаемо, так как если значение параметра мало, то возникает эффект переобучения, когда решение по классификации принимается на основе малого числа примеров и имеет низкую значимость (если k = 1, то алгоритм будет просто присваивать любому новому наблюдению метку класса ближайшего объекта).\n",
    "\n",
    "Напротив, если значение параметра слишком велико, то в процессе классификации принимает участие много объектов, относящихся к разным классам. Такая классификация оказывается слишком грубой и плохо отражает локальные особенности набора данных.\n"
   ]
  },
  {
   "cell_type": "markdown",
   "metadata": {},
   "source": [
    "## Обучение и оценка модели SVC"
   ]
  },
  {
   "cell_type": "code",
   "execution_count": 129,
   "metadata": {},
   "outputs": [
    {
     "data": {
      "image/png": "[encoded data removed]",
      "text/plain": [
       "<Figure size 432x288 with 3 Axes>"
      ]
     },
     "metadata": {
      "needs_background": "light"
     },
     "output_type": "display_data"
    },
    {
     "data": {
      "image/png": "[encoded data removed]",
      "text/plain": [
       "<Figure size 432x288 with 3 Axes>"
      ]
     },
     "metadata": {
      "needs_background": "light"
     },
     "output_type": "display_data"
    }
   ],
   "source": [
    "# arrays for storing the results of method score\n",
    "SVC_score = np.ones((len(kernel_type), len(gamma), len(c_param)))\n",
    "# array for storing result of method predict from model with (C, kernel_type, gamma) at which the highest efficiency was observed\n",
    "SVC_yhat = []\n",
    "\n",
    "best_score = -1\n",
    "# pass through all kernel types\n",
    "for i in range(len(kernel_type)):\n",
    "    # pass through all gammas\n",
    "    for j in range(len(gamma)):\n",
    "        # pass through all c parameters\n",
    "        for k in range(len(c_param)):\n",
    "            model = SVC(C=c_param[k], kernel=kernel_type[i], gamma=gamma[j])\n",
    "            model.fit(train_X, train_y)\n",
    "            cur_score = model.score(test_X, test_y)\n",
    "            SVC_score[i, j, k] = cur_score\n",
    "\n",
    "            # finding SVC_yhat\n",
    "            if cur_score > best_score:\n",
    "                SVC_yhat = model.predict(test_X)\n",
    "                best_score = cur_score\n",
    "\n",
    "# build a graphs of the dependence of the score value on c value\n",
    "%matplotlib inline\n",
    "fig1, ax1 = plt.subplots(1, 3)\n",
    "fig2, ax2 = plt.subplots(1, 3)\n",
    "ax = [ax1, ax2]\n",
    "\n",
    "# pass through all kernel types\n",
    "for i in range(len(kernel_type)):\n",
    "    for j in range(len(ax)):\n",
    "        ax[j][i].set_ylim([0.8, 1])\n",
    "        ax[j][i].plot(c_param, SVC_score[i, j])\n",
    "        ax[j][i].set_title(kernel_type[i]+', '+ gamma[j])"
   ]
  },
  {
   "cell_type": "markdown",
   "metadata": {
    "pycharm": {
     "name": "#%% md\n"
    }
   },
   "source": [
    "Наиболее эффективная классификация наблюдается при следующих параметрах модели:\n",
    "* С = 2\n",
    "* ядро - полиномиальная функция 3-порядка\n",
    "* значение gamma = 1 / (n_features * X.var()), где n_features = 561, X.var() - дисперсия\n",
    "\n",
    "Параметр C - обеспечивает \"гладкость\" и точность алгоритма, чем больше С, тем точнее классификация.\n",
    "\n",
    "Gamma – параметр алгоритма определяющий насколько далеко каждый из элементов в наборе данных имеет влияние при определении гиперплоскости. Чем ниже gamma, тем больше элементов принимают участие в выборе линии плоскости.\n",
    "\n",
    "Kernel - задает тип ядра, который будет использоваться в алгоритме.\n"
   ]
  },
  {
   "cell_type": "markdown",
   "metadata": {
    "pycharm": {
     "name": "#%% md\n"
    }
   },
   "source": [
    "## Сравнение моделей SVC и k-NN"
   ]
  },
  {
   "cell_type": "code",
   "execution_count": 130,
   "metadata": {
    "pycharm": {
     "name": "#%%\n"
    }
   },
   "outputs": [
    {
     "name": "stdout",
     "output_type": "stream",
     "text": [
      "k-NN report\n",
      "                    precision    recall  f1-score   support\n",
      "\n",
      "           WALKING       0.84      0.98      0.90       496\n",
      "  WALKING_UPSTAIRS       0.90      0.90      0.90       471\n",
      "WALKING_DOWNSTAIRS       0.96      0.78      0.86       420\n",
      "           SITTING       0.89      0.86      0.87       491\n",
      "          STANDING       0.88      0.90      0.89       532\n",
      "            LAYING       1.00      0.99      1.00       537\n",
      "\n",
      "          accuracy                           0.91      2947\n",
      "         macro avg       0.91      0.90      0.90      2947\n",
      "      weighted avg       0.91      0.91      0.91      2947\n",
      "\n",
      "SVC report\n",
      "                    precision    recall  f1-score   support\n",
      "\n",
      "           WALKING       0.95      0.99      0.97       496\n",
      "  WALKING_UPSTAIRS       0.95      0.96      0.95       471\n",
      "WALKING_DOWNSTAIRS       0.99      0.95      0.97       420\n",
      "           SITTING       0.97      0.89      0.93       491\n",
      "          STANDING       0.91      0.98      0.94       532\n",
      "            LAYING       1.00      1.00      1.00       537\n",
      "\n",
      "          accuracy                           0.96      2947\n",
      "         macro avg       0.96      0.96      0.96      2947\n",
      "      weighted avg       0.96      0.96      0.96      2947\n",
      "\n"
     ]
    }
   ],
   "source": [
    "# k-NN report\n",
    "print(\"k-NN report\")\n",
    "print(classification_report(test_y, kNN_yhat, target_names=label_dict.keys()))\n",
    "\n",
    "# SVC report\n",
    "print(\"SVC report\")\n",
    "print(classification_report(test_y, SVC_yhat, target_names=label_dict.keys()))"
   ]
  },
  {
   "cell_type": "markdown",
   "metadata": {
    "pycharm": {
     "name": "#%% md\n"
    }
   },
   "source": [
    "Отчет о классификации используется для измерения качества прогнозов алгоритма классификации.\n",
    "\n",
    "В отчете показаны основные показатели классификации: precision, recall, f1-score и support для каждого класса. Метрики рассчитываются с использованием TN, TP, FN, FP. Есть четыре способа проверить правильность прогнозов:\n",
    "\n",
    "* TN / True Negative: когда случай был отрицательным и прогноз был отрицательным\n",
    "* TP / True Positive: когда случай был положительным и предсказал положительным\n",
    "* FN / False Negative: когда случай был положительным, но прогноз был отрицательным\n",
    "* FP / False Positive результат: когда случай был отрицательным, но прогноз был положительным\n",
    "\n",
    "Precision - точность положительных предсказаний\n",
    "\n",
    "Precision = TP / (TP + FP)\n",
    "\n",
    "Recall - доля правильно идентифицированных положительных результатов.\n",
    "\n",
    "Recall = TP / (TP + FN)\n",
    "\n",
    "f1-score - среднее гармоническое от precision и recall, так что наилучшая оценка составляет 1,0, а наихудшая - 0,0.\n",
    "\n",
    "F1 Score = 2 * (Recall * Precision) / (Recall + Precision)\n",
    "\n",
    "support - это количество случаев появления данного класса в наборе данных\n"
   ]
  },
  {
   "cell_type": "markdown",
   "metadata": {
    "pycharm": {
     "name": "#%% md\n"
    }
   },
   "source": [
    "## Вывод\n",
    "\n",
    "Максимально точный классификатор получился с помощью использования метода опорных векторов с параметрами (C = 2, kernel - полиномиальная функция 3 порядка, gamma = 1 / (n_features * X.var())).\n",
    "\n",
    "Значения precision, recall и f1-score равны 0.96"
   ]
  }
 ],
 "metadata": {
  "kernelspec": {
   "display_name": "Python 3 (ipykernel)",
   "language": "python",
   "name": "python3"
  },
  "language_info": {
   "codemirror_mode": {
    "name": "ipython",
    "version": 3
   },
   "file_extension": ".py",
   "mimetype": "text/x-python",
   "name": "python",
   "nbconvert_exporter": "python",
   "pygments_lexer": "ipython3",
   "version": "3.9.5"
  }
 },
 "nbformat": 4,
 "nbformat_minor": 1
}